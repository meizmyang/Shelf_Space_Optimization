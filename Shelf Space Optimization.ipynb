{
 "cells": [
  {
   "cell_type": "markdown",
   "metadata": {},
   "source": [
    "## Shelf Space Optimization\n",
    "\n",
    "Problem: You are provided a dataset which provides sales data for three different products sold in an apparel retailer. These products are three different types of jeans sold at this retailer - Colored denim, Wide Leg, High-Rise.You are required to determine an ideal shelf allocation across these three products. The total shelf spaces available are 60. You are required to provide at least 5 shelf spaces to each product. Based on today’s class, please frame a problem, and if possible attempt a solution to this problem in a tool of your choice (& comfort)."
   ]
  },
  {
   "cell_type": "code",
   "execution_count": 61,
   "metadata": {
    "collapsed": true
   },
   "outputs": [],
   "source": [
    "#Objective: \n",
    "#    Maximize: Sales = sum(Sales1+Sales2+Sales3) \n",
    "#    Sales(n) = baseline + is_discount X a1 + is_weekend * a2+space * a3 + price * a4 (n =1,2,3)\n",
    "#Constraint: \n",
    "#    x1+x2+x3<=60\n",
    "#    x1<=5\n",
    "#    x2<=5\n",
    "#    x3<=5"
   ]
  },
  {
   "cell_type": "markdown",
   "metadata": {},
   "source": [
    "### import the packages"
   ]
  },
  {
   "cell_type": "code",
   "execution_count": 62,
   "metadata": {
    "collapsed": true
   },
   "outputs": [],
   "source": [
    "import pandas as pd\n",
    "import numpy as np\n",
    "import statsmodels.formula.api as sm\n",
    "import cvxpy as cvx"
   ]
  },
  {
   "cell_type": "markdown",
   "metadata": {},
   "source": [
    "### fit elasticity model to get the parameters for 3 products using OLS"
   ]
  },
  {
   "cell_type": "code",
   "execution_count": 82,
   "metadata": {
    "collapsed": true
   },
   "outputs": [],
   "source": [
    "def get_params(sheet):\n",
    "    df= pd.read_excel(\"data.xlsx\",sheet_name=sheet )\n",
    "    df[\"day\"] = df[\"Day of the Week\"].apply(lambda x: 1 if x in [\"Sa\",\"Su\"] else 0)\n",
    "    def dis(x):\n",
    "        if x[\"Markdown\"]+x[\"Clearance\"]+x[\"Discount\"] >=1:\n",
    "            return 1\n",
    "        else: return 0\n",
    "    \n",
    "    df[\"dis\"]= df.apply(dis,axis=1)\n",
    "    df[\"space\"] = (df[\"Shelf Spaces\"])\n",
    "    df[\"sales\"] = (df[\"Sales\"])\n",
    "    df[\"price\"] = (df[\"Average Price\"])\n",
    "    fit = sm.ols(formula=\"sales ~ space + price + day + dis\", data=df).fit()\n",
    "    result = fit.params\n",
    "    return result"
   ]
  },
  {
   "cell_type": "code",
   "execution_count": 83,
   "metadata": {},
   "outputs": [
    {
     "data": {
      "text/plain": [
       "Intercept    74858.667465\n",
       "space          794.155733\n",
       "price        -1681.235429\n",
       "day           3608.791608\n",
       "dis         -14748.524292\n",
       "dtype: float64"
      ]
     },
     "execution_count": 83,
     "metadata": {},
     "output_type": "execute_result"
    }
   ],
   "source": [
    "m1= get_params(\"colored\")\n",
    "m1"
   ]
  },
  {
   "cell_type": "code",
   "execution_count": 84,
   "metadata": {},
   "outputs": [
    {
     "data": {
      "text/plain": [
       "Intercept    25234.825774\n",
       "space         2019.413986\n",
       "price          102.384814\n",
       "day          23904.151448\n",
       "dis           -988.901138\n",
       "dtype: float64"
      ]
     },
     "execution_count": 84,
     "metadata": {},
     "output_type": "execute_result"
    }
   ],
   "source": [
    "m2 =get_params(\"high-rise\")\n",
    "m2"
   ]
  },
  {
   "cell_type": "code",
   "execution_count": 85,
   "metadata": {},
   "outputs": [
    {
     "data": {
      "text/plain": [
       "Intercept    3998.829234\n",
       "space        1783.298828\n",
       "price        -113.459609\n",
       "day         -2102.421183\n",
       "dis         -3898.812391\n",
       "dtype: float64"
      ]
     },
     "execution_count": 85,
     "metadata": {},
     "output_type": "execute_result"
    }
   ],
   "source": [
    "m3= get_params(\"wide-leg\")\n",
    "m3"
   ]
  },
  {
   "cell_type": "markdown",
   "metadata": {},
   "source": [
    "### optimize with integer programming"
   ]
  },
  {
   "cell_type": "code",
   "execution_count": 86,
   "metadata": {
    "collapsed": true
   },
   "outputs": [],
   "source": [
    "def optimize(is_weekend, is_discount_1, is_discount_2, is_discount_3, price1, price2, price3, m1, m2, m3):\n",
    "    x1 = cvx.Int()\n",
    "    x2 = cvx.Int()\n",
    "    x3 = cvx.Int()\n",
    "    obj = cvx.Maximize(m1[0]+m1[1]*x1+m1[2]*price1+m1[3]*is_weekend+m1[4]*is_discount_1\n",
    "    +m2[0]+m2[1]*x2+m2[2]*price2+m2[3]*is_weekend+m2[4]*is_discount_2\n",
    "    +m3[0]+m3[1]*x3)\n",
    "    con = [x1+x2+x3<=60, x1>=5, x2>=5, x3>=5]\n",
    "    prob = cvx.Problem(obj, con)\n",
    "    result = prob.solve()\n",
    "    return x1.value,x2.value,x3.value,obj.value"
   ]
  },
  {
   "cell_type": "markdown",
   "metadata": {},
   "source": [
    "### test"
   ]
  },
  {
   "cell_type": "code",
   "execution_count": 87,
   "metadata": {},
   "outputs": [
    {
     "data": {
      "text/plain": [
       "(5.0000000023752103,\n",
       " 49.999999991771986,\n",
       " 5.0000000043909862,\n",
       " 181336.44561368937)"
      ]
     },
     "execution_count": 87,
     "metadata": {},
     "output_type": "execute_result"
    }
   ],
   "source": [
    "optimize(1, 0, 1, 1, 30, 20, 40, m1, m2, m3)"
   ]
  }
 ],
 "metadata": {
  "kernelspec": {
   "display_name": "Python 3",
   "language": "python",
   "name": "python3"
  },
  "language_info": {
   "codemirror_mode": {
    "name": "ipython",
    "version": 3
   },
   "file_extension": ".py",
   "mimetype": "text/x-python",
   "name": "python",
   "nbconvert_exporter": "python",
   "pygments_lexer": "ipython3",
   "version": "3.6.3"
  }
 },
 "nbformat": 4,
 "nbformat_minor": 2
}
